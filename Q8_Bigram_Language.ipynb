{
  "nbformat": 4,
  "nbformat_minor": 0,
  "metadata": {
    "colab": {
      "provenance": []
    },
    "kernelspec": {
      "name": "python3",
      "display_name": "Python 3"
    },
    "language_info": {
      "name": "python"
    }
  },
  "cells": [
    {
      "cell_type": "code",
      "execution_count": null,
      "metadata": {
        "colab": {
          "base_uri": "https://localhost:8080/"
        },
        "id": "dLB9jx-yp5Ty",
        "outputId": "aaf30dbd-b511-4edc-c316-2adc74785f74"
      },
      "outputs": [
        {
          "output_type": "stream",
          "name": "stdout",
          "text": [
            "Unigram counts: {'<s>': 3, 'I': 2, 'love': 2, 'NLP': 1, '</s>': 3, 'deep': 2, 'learning': 2, 'is': 1, 'fun': 1}\n",
            "Bigram counts: {('<s>', 'I'): 2, ('I', 'love'): 2, ('love', 'NLP'): 1, ('NLP', '</s>'): 1, ('love', 'deep'): 1, ('deep', 'learning'): 2, ('learning', '</s>'): 1, ('<s>', 'deep'): 1, ('learning', 'is'): 1, ('is', 'fun'): 1, ('fun', '</s>'): 1}\n",
            "\n",
            "Sample bigram probabilities:\n",
            "P(I | <s>) = 0.6666666666666666\n",
            "P(love | I) = 1.0\n",
            "P(NLP | love) = 0.5\n",
            "\n",
            "Sentence probabilities:\n",
            "P(<s> I love NLP </s>) = 0.3333333333333333\n",
            "P(<s> I love deep learning </s>) = 0.16666666666666666\n",
            "\n",
            "Model prefers: <s> I love NLP </s> because it has higher probability.\n"
          ]
        }
      ],
      "source": [
        "from collections import defaultdict\n",
        "\n",
        "# Training corpus\n",
        "corpus = [\n",
        "    [\"<s>\", \"I\", \"love\", \"NLP\", \"</s>\"],\n",
        "    [\"<s>\", \"I\", \"love\", \"deep\", \"learning\", \"</s>\"],\n",
        "    [\"<s>\", \"deep\", \"learning\", \"is\", \"fun\", \"</s>\"]\n",
        "]\n",
        "\n",
        "# Step 1: Compute unigram and bigram counts\n",
        "unigram_counts = defaultdict(int)\n",
        "bigram_counts = defaultdict(int)\n",
        "\n",
        "for sentence in corpus:\n",
        "    for i in range(len(sentence)):\n",
        "        unigram_counts[sentence[i]] += 1\n",
        "        if i > 0:\n",
        "            bigram_counts[(sentence[i-1], sentence[i])] += 1\n",
        "\n",
        "print(\"Unigram counts:\", dict(unigram_counts))\n",
        "print(\"Bigram counts:\", dict(bigram_counts))\n",
        "\n",
        "# Step 2: Estimate bigram probabilities using MLE\n",
        "def bigram_prob(w1, w2):\n",
        "    return bigram_counts[(w1, w2)] / unigram_counts[w1] if unigram_counts[w1] > 0 else 0\n",
        "\n",
        "print(\"\\nSample bigram probabilities:\")\n",
        "print(\"P(I | <s>) =\", bigram_prob(\"<s>\", \"I\"))\n",
        "print(\"P(love | I) =\", bigram_prob(\"I\", \"love\"))\n",
        "print(\"P(NLP | love) =\", bigram_prob(\"love\", \"NLP\"))\n",
        "\n",
        "# Step 3: Function to compute sentence probability\n",
        "def sentence_prob(sentence):\n",
        "    prob = 1.0\n",
        "    for i in range(1, len(sentence)):\n",
        "        p = bigram_prob(sentence[i-1], sentence[i])\n",
        "        prob *= p\n",
        "    return prob\n",
        "\n",
        "# Step 4: Test the function\n",
        "s1 = [\"<s>\", \"I\", \"love\", \"NLP\", \"</s>\"]\n",
        "s2 = [\"<s>\", \"I\", \"love\", \"deep\", \"learning\", \"</s>\"]\n",
        "\n",
        "p1 = sentence_prob(s1)\n",
        "p2 = sentence_prob(s2)\n",
        "\n",
        "print(\"\\nSentence probabilities:\")\n",
        "print(\"P(<s> I love NLP </s>) =\", p1)\n",
        "print(\"P(<s> I love deep learning </s>) =\", p2)\n",
        "\n",
        "# Step 5: Decide which sentence the model prefers\n",
        "if p1 > p2:\n",
        "    print(\"\\nModel prefers: <s> I love NLP </s> because it has higher probability.\")\n",
        "else:\n",
        "    print(\"\\nModel prefers: <s> I love deep learning </s> because it has higher probability.\")\n"
      ]
    }
  ]
}